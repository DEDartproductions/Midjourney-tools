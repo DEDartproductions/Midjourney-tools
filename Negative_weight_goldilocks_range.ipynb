{
  "nbformat": 4,
  "nbformat_minor": 0,
  "metadata": {
    "colab": {
      "provenance": [],
      "toc_visible": true,
      "authorship_tag": "ABX9TyNKVIK21fv5er3e/TD15b+o",
      "include_colab_link": true
    },
    "kernelspec": {
      "name": "python3",
      "display_name": "Python 3"
    },
    "language_info": {
      "name": "python"
    }
  },
  "cells": [
    {
      "cell_type": "markdown",
      "metadata": {
        "id": "view-in-github",
        "colab_type": "text"
      },
      "source": [
        "<a href=\"https://colab.research.google.com/github/DEDartproductions/Midjourney-tools/blob/main/Negative_weight_goldilocks_range.ipynb\" target=\"_parent\"><img src=\"https://colab.research.google.com/assets/colab-badge.svg\" alt=\"Open In Colab\"/></a>"
      ]
    },
    {
      "cell_type": "markdown",
      "source": [
        "To find the sweet spot for a negative weight in Midjourney V4.\n"
      ],
      "metadata": {
        "id": "q-S_5l5TJVIV"
      }
    },
    {
      "cell_type": "code",
      "execution_count": null,
      "metadata": {
        "id": "Gp54FZ0LIOHL"
      },
      "outputs": [],
      "source": [
        "number_of_inputs = int(input(\"How many positive weights: \"))\n",
        "\n",
        "sum = 0\n",
        "for x in range(number_of_inputs):\n",
        "    sum += float(input(\"Enter Weight: \"))\n",
        "\n",
        "print(\"Total positive weight:\", sum)  # print out the sum after completing\n",
        "print(\"Negative weight goldilocks range: \", sum*-0.25, \"through\", sum*-0.45)"
      ]
    }
  ]
}