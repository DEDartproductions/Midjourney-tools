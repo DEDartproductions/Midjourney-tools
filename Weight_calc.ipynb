{
  "nbformat": 4,
  "nbformat_minor": 0,
  "metadata": {
    "colab": {
      "provenance": [],
      "include_colab_link": true
    },
    "kernelspec": {
      "name": "python3",
      "display_name": "Python 3"
    },
    "language_info": {
      "name": "python"
    }
  },
  "cells": [
    {
      "cell_type": "markdown",
      "metadata": {
        "id": "view-in-github",
        "colab_type": "text"
      },
      "source": [
        "<a href=\"https://colab.research.google.com/github/DEDartproductions/Midjourney-tools/blob/main/Weight_calc.ipynb\" target=\"_parent\"><img src=\"https://colab.research.google.com/assets/colab-badge.svg\" alt=\"Open In Colab\"/></a>"
      ]
    },
    {
      "cell_type": "markdown",
      "source": [
        "# A calculator to see how much influence each prompt has, and find the negative weight range that avoids the *bug*\n",
        "---\n",
        "( **prompt::** is the same as **prompt::1**)\n",
        "\n",
        "\n",
        "\n",
        "\n"
      ],
      "metadata": {
        "id": "fFjnuiND6ZWS"
      }
    },
    {
      "cell_type": "code",
      "execution_count": null,
      "metadata": {
        "id": "IY_JII_bzTRN"
      },
      "outputs": [],
      "source": [
        "import math\n",
        "import numpy as np\n",
        "\n",
        "def weights():\n",
        "    positive_weights = list(map(float, input(\"Enter list of positive weights (**seperate weights with a space**): \").split()))\n",
        "    print(positive_weights)\n",
        "\n",
        "    total_positive_weight = math.fsum(positive_weights)               \n",
        "    print(\"Total positive weight: \", total_positive_weight)\n",
        "\n",
        "    percent_of_influence = (np.asarray(positive_weights)/total_positive_weight)*100\n",
        "    print(\"Prompts percent of influence: \", np.around(percent_of_influence, 2))\n",
        "\n",
        "    negative_weight_range = [num*total_positive_weight for num in np.arange(-0.25,-0.5, -0.05)]\n",
        "    print(\"Optimal negative weight: \", round(max(negative_weight_range), 2),\"through\", round(min(negative_weight_range), 2))\n",
        "\n",
        "    positive_weights.append(float(input(\"\\nEnter negative weight: \")))\n",
        "\n",
        "    total_weight = math.fsum(positive_weights)\n",
        "    print(\"New total weight: \", total_weight)\n",
        "    \n",
        "    if total_weight < 0:\n",
        "        print(\"\\n**THE SUM OF ALL OF THE PROMPT WEIGHTS MUST BE POSITIVE**\")\n",
        "\n",
        "rerun = True\n",
        "while rerun:\n",
        "    weights()\n",
        "    rerun = input('\\nWould you like to run the program again? [y/n]: ') == 'y'\n",
        "\n",
        "print(\"The program will now terminate.\")\n"
      ]
    }
  ]
}